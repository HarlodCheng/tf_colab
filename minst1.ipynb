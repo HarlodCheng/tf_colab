{
  "nbformat": 4,
  "nbformat_minor": 0,
  "metadata": {
    "colab": {
      "name": "minst1.ipynb",
      "version": "0.3.2",
      "provenance": [],
      "collapsed_sections": [],
      "include_colab_link": true
    },
    "kernelspec": {
      "name": "python3",
      "display_name": "Python 3"
    },
    "accelerator": "TPU"
  },
  "cells": [
    {
      "cell_type": "markdown",
      "metadata": {
        "id": "view-in-github",
        "colab_type": "text"
      },
      "source": [
        "<a href=\"https://colab.research.google.com/github/HarlodCheng/tf_colab/blob/master/minst1.ipynb\" target=\"_parent\"><img src=\"https://colab.research.google.com/assets/colab-badge.svg\" alt=\"Open In Colab\"/></a>"
      ]
    },
    {
      "metadata": {
        "id": "9Dnztgl75VUf",
        "colab_type": "code",
        "outputId": "0d412189-f73c-49fa-c055-15cb441b6954",
        "colab": {
          "base_uri": "https://localhost:8080/",
          "height": 243
        }
      },
      "cell_type": "code",
      "source": [
        "import tensorflow as tf\n",
        "from tensorflow.examples.tutorials.mnist import input_data\n",
        "#载入数据集\n",
        "#mnist=input_data.read_data_sets(\"content/MNIST\",one_hot=TRUE)\n",
        "INPUT_NODE=784\n",
        "OUTPUT_NODE=10\n",
        "#与MNIST数据相关\n",
        "\n",
        "LAYER1_NODE=500#隐藏层结点\n",
        "BATCH_SIZE=100\n",
        "\n",
        "LEARNING_RATE_BASE=0.8#学习率\n",
        "LEARNING_RATE_DECAY=0.99\n",
        "REGULARIZATION_RATE=0.0001\n",
        "TRAIN_STEPS=30000#CISHU\n",
        "MOVING_AVERAGE_DECAY=0.99\n",
        "\n",
        "def inference(input_tensor,avg_class,weights1,biases1,weights2,biases2):\n",
        "  if avg_class==None:\n",
        "    layer1=tf.nn.relu(tf.matmul(input_tensor,weights1)+biases1)\n",
        "    return tf.matmul(layer1,weights2)+biases2\n",
        "  else:\n",
        "      layer1=tf.nn.relu(\n",
        "          tf.matmul(input_tensor,avg_class.average(weights1))+\n",
        "          avg_class.average(biases1)\n",
        "      )\n",
        "      return tf.matmul(layer1,avg_class.average(weights2))+avg_class.average(biases2)\n",
        "\n",
        "def train(mnist):\n",
        "    x=tf.placeholder(tf.float32,[None,INPUT_NODE],name='x-input')\n",
        "    y_=tf.placeholder(tf.float32,[None,OUTPUT_NODE],name='y-input')\n",
        "\n",
        "    #生成隐藏层的参数\n",
        "    weights1=tf.Variable(tf.truncated_normal([INPUT_NODE,LAYER1_NODE],stddev=0.1))\n",
        "    biases1=tf.Variable(tf.constant(0.1,shape=[LAYER1_NODE]))\n",
        "\n",
        "    #输出层的参数w2\n",
        "    weights2=tf.Variable(tf.truncated_normal([LAYER1_NODE,OUTPUT_NODE],stddev=0.1))\n",
        "    biases2=tf.Variable(tf.constant(0.1,shape=[OUTPUT_NODE]))\n",
        "\n",
        "    y=inference(x,None,weights1,biases1,weights2,biases2)\n",
        "\n",
        "    global_step=tf.Variable(0,trainable=False)#将训练的轮数设定为不可训练\n",
        "\n",
        "    variable_averages=tf.train.ExponentiaMovingAverage(MOVING_AVERAGE_DECAY,global_step)\n",
        "\n",
        "    variable_averages_op=variable_averages.apply(tf.trainable_variabled())\n",
        "\n",
        "    average_y=inference(x,variable_averages,weights1,biases1,weights2,biases2)\n",
        "\n",
        "    cross_entropy=tf.nn.sparse_sofemax_cross_entropy_with_logits(logits=y,labels=tf.argmax(y_,1))\n",
        "    cross_entropy_mean=tf.reduce_mean(cross_entropy)\n",
        "\n",
        "    regularizer=tf.contrib.layers.l2_regularizer(REGULARIZATION_RATE)\n",
        "\n",
        "    reglarization=regularizer(weights1)+regularizer(weights2)\n",
        "    loss=cross_entropy_mean+reglarization\n",
        "\n",
        "    #设置指数衰减的学习率\n",
        "    learning_rate=tf.train.exponential_decay(\n",
        "        LEARNING_RATE_BASE,\n",
        "        global_step,\n",
        "        mnist.train.num_example/BATCH_SIZE,\n",
        "        LEARNING_RATE_DECAY\n",
        "    )\n",
        "\n",
        "train_step=tf.train.GradientDescentOptimizer(learning_rate)\\\n",
        ".minimize(loss,global_step=global_step)\n",
        "\n",
        "with tf.control_dependencies([train_step,variable_averages_op]):\n",
        "    train_op=tf.no_op(name='train')\n",
        "\n",
        "    correct_prediction=tf.equal(tf.argmax(average_y,1),tf.argmax(average_y,1))\n",
        "    accuracy=tf.reduce_mean(tf.cast(correct_prediction,tf.float32))\n",
        "\n",
        "with tf.Session() as sess:\n",
        "    tf.global_variables_initializer().run()\n",
        "\n",
        "    validate_feed={x:mnist.validation.images,y_:mnist.validation.labels}\n",
        "    test_feed={x:mnist.tset.images,y_:mnist.test.labels}\n",
        "\n",
        "    #迭代训练神经网络\n",
        "    for i in range(TRAIN_STEPS):\n",
        "        if i%1000==0:\n",
        "            validate_acc=sess.run(accuracy,feed_dict=validate_feed)\n",
        "            print(\"after %d training steps,validation accuracy using average modle is %g\"%(i,validate_acc))\n",
        "        xs,ys=mnist.train.next_batch(BATCH_SIZE)\n",
        "        sess.run(train_op,feed_dict={x:xs,y_:ys})\n",
        "\n",
        "    test_acc=sess.run(accuracy,feed_dict=test_feed)\n",
        "    print(\"after %d training steps,test accurracy using average model is %g\"%(TRAIN_STEPS,test_acc))\n",
        "\n",
        "\n",
        "#main api\n",
        "def main(argv=None):\n",
        "  mnist=input_data.read_data_sets(\"/tmp/data\",one_hot=True)\n",
        "if __name__=='__main__':\n",
        "    tf.app.run()\n"
      ],
      "execution_count": 0,
      "outputs": [
        {
          "output_type": "error",
          "ename": "NameError",
          "evalue": "ignored",
          "traceback": [
            "\u001b[0;31m\u001b[0m",
            "\u001b[0;31mNameError\u001b[0mTraceback (most recent call last)",
            "\u001b[0;32m<ipython-input-1-66a3565d79bd>\u001b[0m in \u001b[0;36m<module>\u001b[0;34m()\u001b[0m\n\u001b[1;32m     65\u001b[0m     )\n\u001b[1;32m     66\u001b[0m \u001b[0;34m\u001b[0m\u001b[0m\n\u001b[0;32m---> 67\u001b[0;31m \u001b[0mtrain_step\u001b[0m\u001b[0;34m=\u001b[0m\u001b[0mtf\u001b[0m\u001b[0;34m.\u001b[0m\u001b[0mtrain\u001b[0m\u001b[0;34m.\u001b[0m\u001b[0mGradientDescentOptimizer\u001b[0m\u001b[0;34m(\u001b[0m\u001b[0mlearning_rate\u001b[0m\u001b[0;34m)\u001b[0m\u001b[0;34m.\u001b[0m\u001b[0mminimize\u001b[0m\u001b[0;34m(\u001b[0m\u001b[0mloss\u001b[0m\u001b[0;34m,\u001b[0m\u001b[0mglobal_step\u001b[0m\u001b[0;34m=\u001b[0m\u001b[0mglobal_step\u001b[0m\u001b[0;34m)\u001b[0m\u001b[0;34m\u001b[0m\u001b[0m\n\u001b[0m\u001b[1;32m     68\u001b[0m \u001b[0;34m\u001b[0m\u001b[0m\n\u001b[1;32m     69\u001b[0m \u001b[0;32mwith\u001b[0m \u001b[0mtf\u001b[0m\u001b[0;34m.\u001b[0m\u001b[0mcontrol_dependencies\u001b[0m\u001b[0;34m(\u001b[0m\u001b[0;34m[\u001b[0m\u001b[0mtrain_step\u001b[0m\u001b[0;34m,\u001b[0m\u001b[0mvariable_averages_op\u001b[0m\u001b[0;34m]\u001b[0m\u001b[0;34m)\u001b[0m\u001b[0;34m:\u001b[0m\u001b[0;34m\u001b[0m\u001b[0m\n",
            "\u001b[0;31mNameError\u001b[0m: name 'learning_rate' is not defined"
          ]
        }
      ]
    },
    {
      "metadata": {
        "id": "CfC8-o06SZ8s",
        "colab_type": "code",
        "outputId": "f7cbc0e1-977e-4ca1-b6e6-76331c496fd0",
        "colab": {
          "base_uri": "https://localhost:8080/",
          "height": 163
        }
      },
      "cell_type": "code",
      "source": [
        "from tensorflow.examples.tutorials.mnist import input_data\n",
        "import tensorflow as tf\n",
        "\n",
        "# MNIST数据存放的路径\n",
        "file = \"./MNIST\"\n",
        "\n",
        "# 导入数据\n",
        "mnist = input_data.read_data_sets(file, one_hot=True)\n",
        "\n",
        "# 模型的输入和输出\n",
        "x = tf.placeholder(tf.float32, shape=[None, 784])\n",
        "y_ = tf.placeholder(tf.float32, shape=[None, 10])\n",
        "\n",
        "# 模型的权重和偏移量\n",
        "W = tf.Variable(tf.zeros([784, 10]))\n",
        "b = tf.Variable(tf.zeros([10]))\n",
        "\n",
        "# 创建Session\n",
        "sess = tf.InteractiveSession()\n",
        "# 初始化权重变量\n",
        "sess.run(tf.global_variables_initializer())\n",
        "\n",
        "y = tf.nn.softmax(tf.matmul(x, W) + b)\n",
        "\n",
        "# 交叉熵\n",
        "cross_entropy = -tf.reduce_sum(y_*tf.log(y))\n",
        "\n",
        "# 训练\n",
        "train_step = tf.train.GradientDescentOptimizer(0.01).minimize(cross_entropy)\n",
        "for i in range(1500):\n",
        "    batch = mnist.train.next_batch(50)\n",
        "    train_step.run(feed_dict={x: batch[0], y_: batch[1]})\n",
        "\n",
        "# 测试\n",
        "correct_prediction = tf.equal(tf.argmax(y, 1), tf.argmax(y_, 1))\n",
        "accuracy = tf.reduce_mean(tf.cast(correct_prediction, tf.float32))\n",
        "print(sess.run(accuracy, feed_dict={x: mnist.test.images, y_:mnist.test.labels}))\n"
      ],
      "execution_count": 0,
      "outputs": [
        {
          "output_type": "stream",
          "text": [
            "Extracting ./MNIST/train-images-idx3-ubyte.gz\n",
            "Extracting ./MNIST/train-labels-idx1-ubyte.gz\n",
            "Extracting ./MNIST/t10k-images-idx3-ubyte.gz\n",
            "Extracting ./MNIST/t10k-labels-idx1-ubyte.gz\n"
          ],
          "name": "stdout"
        },
        {
          "output_type": "stream",
          "text": [
            "/usr/local/lib/python3.6/dist-packages/tensorflow/python/client/session.py:1702: UserWarning: An interactive session is already active. This can cause out-of-memory errors in some cases. You must explicitly call `InteractiveSession.close()` to release resources held by the other session(s).\n",
            "  warnings.warn('An interactive session is already active. This can '\n"
          ],
          "name": "stderr"
        },
        {
          "output_type": "stream",
          "text": [
            "0.9162\n"
          ],
          "name": "stdout"
        }
      ]
    },
    {
      "metadata": {
        "id": "dmhnxTTnPcUt",
        "colab_type": "code",
        "outputId": "31fa4f10-f444-4bec-b9f3-a1d81342c867",
        "colab": {
          "base_uri": "https://localhost:8080/",
          "height": 89
        }
      },
      "cell_type": "code",
      "source": [
        "from tensorflow.examples.tutorials.mnist import input_data\n",
        "import tensorflow as tf\n",
        "\n",
        "# MNIST数据存放的路径\n",
        "file = \"MNIST\"\n",
        "\n",
        "# 导入数据\n",
        "mnist = input_data.read_data_sets(file, one_hot=True)\n"
      ],
      "execution_count": 0,
      "outputs": [
        {
          "output_type": "stream",
          "text": [
            "Extracting MNIST/train-images-idx3-ubyte.gz\n",
            "Extracting MNIST/train-labels-idx1-ubyte.gz\n",
            "Extracting MNIST/t10k-images-idx3-ubyte.gz\n",
            "Extracting MNIST/t10k-labels-idx1-ubyte.gz\n"
          ],
          "name": "stdout"
        }
      ]
    }
  ]
}